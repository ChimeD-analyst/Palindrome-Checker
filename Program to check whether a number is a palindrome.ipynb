{
 "cells": [
  {
   "cell_type": "code",
   "execution_count": null,
   "metadata": {},
   "outputs": [],
   "source": [
    "n=input('How many digits is your desired number')\n",
    "i=0\n",
    "numbers=[]\n",
    "while i<int(n):\n",
    "    digit=input('Enter digit: ')\n",
    "    numbers.append(digit)\n",
    "    i=i+1\n",
    "print(numbers)\n",
    "nl=numbers\n",
    "numbers.reverse()\n",
    "    #print(num_list)\n",
    "if nl==numbers:\n",
    "    print('This number is a palindrome')\n",
    "else:\n",
    "    print('No problem')\n",
    "    "
   ]
  }
 ],
 "metadata": {
  "kernelspec": {
   "display_name": "Python 3",
   "language": "python",
   "name": "python3"
  },
  "language_info": {
   "codemirror_mode": {
    "name": "ipython",
    "version": 3
   },
   "file_extension": ".py",
   "mimetype": "text/x-python",
   "name": "python",
   "nbconvert_exporter": "python",
   "pygments_lexer": "ipython3",
   "version": "3.8.5"
  }
 },
 "nbformat": 4,
 "nbformat_minor": 4
}
